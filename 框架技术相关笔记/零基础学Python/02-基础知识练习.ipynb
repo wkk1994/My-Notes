{
 "cells": [
  {
   "cell_type": "markdown",
   "id": "ec21cfc7-625d-4e7e-a873-984d05f0283f",
   "metadata": {},
   "source": [
    "# 字符串的使用"
   ]
  },
  {
   "cell_type": "markdown",
   "id": "b99f8789-efac-46f4-aa44-7b63e1f25d36",
   "metadata": {},
   "source": [
    "## 字符串的定义"
   ]
  },
  {
   "cell_type": "code",
   "execution_count": 6,
   "id": "4822b8f3-77ce-4e0a-8be7-23f371714141",
   "metadata": {},
   "outputs": [
    {
     "name": "stdout",
     "output_type": "stream",
     "text": [
      "<class 'str'>\n",
      "<class 'str'>\n",
      "<class 'str'>\n",
      "<class 'str'>\n",
      "\n",
      "3333\n",
      "\n",
      "\n",
      "444\n",
      "\n",
      "str4的值是\n",
      "444\n",
      "\n"
     ]
    }
   ],
   "source": [
    "str1 = '11'\n",
    "str2 = \"222\"\n",
    "str3 = \"\"\"\n",
    "3333\n",
    "\"\"\"\n",
    "str4 = '''\n",
    "444\n",
    "'''\n",
    "print(type(str1))\n",
    "print(type(str2))\n",
    "print(type(str3))\n",
    "print(type(str4))\n",
    "print(str3)\n",
    "print(str4)\n",
    "print(f\"str4的值是{str4}\")"
   ]
  },
  {
   "cell_type": "markdown",
   "id": "b25188fa-40f0-49bd-9f6f-7c14c2a72b56",
   "metadata": {},
   "source": [
    "### 字符串操作"
   ]
  },
  {
   "cell_type": "code",
   "execution_count": 14,
   "id": "7d82fd6c-0b95-4a9c-82f4-ba89dc9a297f",
   "metadata": {},
   "outputs": [
    {
     "name": "stdout",
     "output_type": "stream",
     "text": [
      "True\n",
      "False\n",
      "AASDFGHJK\n",
      "AAA\n",
      "S\n",
      "SD\n",
      "ADGJ\n"
     ]
    }
   ],
   "source": [
    "x = 'A'\n",
    "s = 'ASDFGHJK'\n",
    "print(x in s)\n",
    "print(x not in s)\n",
    "print(x + s)\n",
    "print(x * 3)\n",
    "print(s[1])\n",
    "print(s[1:3])\n",
    "print(s[0:-1:2])"
   ]
  },
  {
   "cell_type": "markdown",
   "id": "8fcf9b8e-3677-4b32-8acf-665ce327c0c9",
   "metadata": {},
   "source": [
    "## 数字"
   ]
  },
  {
   "cell_type": "code",
   "execution_count": 27,
   "id": "ce26ecd3-c13c-4483-9ec1-d478afff0e35",
   "metadata": {},
   "outputs": [
    {
     "name": "stdout",
     "output_type": "stream",
     "text": [
      "2.5\n",
      "2\n",
      "2\n",
      "9\n"
     ]
    },
    {
     "name": "stdin",
     "output_type": "stream",
     "text": [
      " 3\n",
      " 4\n"
     ]
    },
    {
     "name": "stdout",
     "output_type": "stream",
     "text": [
      "7\n"
     ]
    }
   ],
   "source": [
    "x = 10\n",
    "y = 4\n",
    "print(10 / 4)\n",
    "print(10 // 4)\n",
    "print(10 % 4)\n",
    "divmod(10, 4)\n",
    "3**2\n",
    "print(pow(3,2))\n",
    "\n",
    "a = input()\n",
    "b = input()\n",
    "\n",
    "print(int(a) + int(b))"
   ]
  },
  {
   "cell_type": "code",
   "execution_count": null,
   "id": "449b2d60-ed56-46f4-a6d9-da08bb1ac1b0",
   "metadata": {},
   "outputs": [],
   "source": []
  }
 ],
 "metadata": {
  "kernelspec": {
   "display_name": "Python 3 (ipykernel)",
   "language": "python",
   "name": "python3"
  },
  "language_info": {
   "codemirror_mode": {
    "name": "ipython",
    "version": 3
   },
   "file_extension": ".py",
   "mimetype": "text/x-python",
   "name": "python",
   "nbconvert_exporter": "python",
   "pygments_lexer": "ipython3",
   "version": "3.13.5"
  }
 },
 "nbformat": 4,
 "nbformat_minor": 5
}
