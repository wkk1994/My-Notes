{
 "cells": [
  {
   "cell_type": "markdown",
   "id": "125c2c45-5d1a-43f6-85f3-563e8c4c475f",
   "metadata": {},
   "source": [
    "## 列表的定义和操作"
   ]
  },
  {
   "cell_type": "code",
   "execution_count": 38,
   "id": "65a45f6d-d103-40c7-81f0-8e10f01e7625",
   "metadata": {},
   "outputs": [
    {
     "name": "stdout",
     "output_type": "stream",
     "text": [
      "['1', 'b']\n",
      "<class 'list'>\n",
      "list删除一个元素后是['b']\n",
      "list删除后是<class 'list'>\n"
     ]
    }
   ],
   "source": [
    "# 创建列表\n",
    "list = ['1','b']\n",
    "print(list)\n",
    "print(type(list))\n",
    "# >>>list('abc')\n",
    "del list[0]\n",
    "print(f\"list删除一个元素后是{list}\")\n",
    "del list\n",
    "print(f\"list删除后是{list}\")"
   ]
  },
  {
   "cell_type": "code",
   "execution_count": 61,
   "id": "7a6247be-1e76-4fb9-81de-644e173a2ab1",
   "metadata": {},
   "outputs": [
    {
     "name": "stdout",
     "output_type": "stream",
     "text": [
      "插入元素后['a', 'f', 'b', 'c', 'd']\n",
      "插入元素后['a', 'f', 'b', 'c', 'd', 1]\n",
      "插入元素后['a', 'f', 'b', 'c', 'd', 1, 1, 2, 4]\n",
      "修改元素后['a', 'f', 'b', 'c', 'd', 1, 1, 2]\n",
      "修改元素后['f', 'b', 'c', 'd', 1, 1, 2]\n",
      "列表长度7\n",
      "列表元素长度1\n",
      "列表元素1出现次数2\n",
      "列表排序['a', 'b', 'c', 'd', 'd']\n",
      "列表排序['a', 'b', 'c', 'd', 'd']\n"
     ]
    }
   ],
   "source": [
    "# 列表操作\n",
    "list = ['a','b','c','d']\n",
    "list.insert(1,'f')\n",
    "print(f\"插入元素后{list}\")\n",
    "list.append(1)\n",
    "print(f\"插入元素后{list}\")\n",
    "list.extend([1,2,4])\n",
    "print(f\"插入元素后{list}\")\n",
    "\n",
    "list.remove(4)\n",
    "print(f\"修改元素后{list}\")\n",
    "\n",
    "list.pop(0)\n",
    "print(f\"修改元素后{list}\")\n",
    "#list.clear()\n",
    "#print(f\"修改元素后{list}\")\n",
    "\n",
    "print(f\"列表长度{len(list)}\")\n",
    "\n",
    "print(f\"列表元素长度{len(list[2])}\")\n",
    "\n",
    "print(f\"列表元素1出现次数{list.count(1)}\")\n",
    "\n",
    "list1 = ['c','d','a','d','b']\n",
    "\n",
    "print(f\"列表排序{sorted(list1)}\")\n",
    "list1.sort()\n",
    "print(f\"列表排序{list1}\")\n",
    "\n"
   ]
  },
  {
   "cell_type": "code",
   "execution_count": null,
   "id": "910fde92-ec31-4365-83f4-900bcf5325ba",
   "metadata": {},
   "outputs": [],
   "source": []
  }
 ],
 "metadata": {
  "kernelspec": {
   "display_name": "Python 3 (ipykernel)",
   "language": "python",
   "name": "python3"
  },
  "language_info": {
   "codemirror_mode": {
    "name": "ipython",
    "version": 3
   },
   "file_extension": ".py",
   "mimetype": "text/x-python",
   "name": "python",
   "nbconvert_exporter": "python",
   "pygments_lexer": "ipython3",
   "version": "3.13.5"
  }
 },
 "nbformat": 4,
 "nbformat_minor": 5
}
